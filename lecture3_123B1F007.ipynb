{
 "cells": [
  {
   "cell_type": "code",
   "execution_count": 1,
   "id": "1b728863-a928-4cbe-bba0-9e120b6aa0a3",
   "metadata": {},
   "outputs": [
    {
     "name": "stdout",
     "output_type": "stream",
     "text": [
      "Requirement already satisfied: pillow in c:\\users\\ml\\anaconda3\\lib\\site-packages (10.3.0)\n",
      "Note: you may need to restart the kernel to use updated packages.\n"
     ]
    }
   ],
   "source": [
    "pip install pillow\n"
   ]
  },
  {
   "cell_type": "code",
   "execution_count": 5,
   "id": "2fb8e465-0604-4d7b-9a7c-e416b5b395e2",
   "metadata": {},
   "outputs": [],
   "source": [
    "from PIL import Image"
   ]
  },
  {
   "cell_type": "code",
   "execution_count": 7,
   "id": "1ec49f7f-b604-454a-b216-c23eae9e97c6",
   "metadata": {},
   "outputs": [],
   "source": [
    "image=Image.open('img.jpg')"
   ]
  },
  {
   "cell_type": "code",
   "execution_count": 13,
   "id": "e40d3108-efae-4897-8a07-906b25f52c58",
   "metadata": {},
   "outputs": [],
   "source": [
    "image.show()"
   ]
  },
  {
   "cell_type": "code",
   "execution_count": 15,
   "id": "903a7324-0894-4497-85b5-959dc30ad692",
   "metadata": {},
   "outputs": [
    {
     "name": "stdout",
     "output_type": "stream",
     "text": [
      "(714, 400)\n"
     ]
    }
   ],
   "source": [
    "print(image.size)"
   ]
  },
  {
   "cell_type": "code",
   "execution_count": 17,
   "id": "3f143419-f802-46d2-b88c-c51865ed5ca4",
   "metadata": {},
   "outputs": [
    {
     "name": "stdout",
     "output_type": "stream",
     "text": [
      "JPEG\n"
     ]
    }
   ],
   "source": [
    "print(image.format)"
   ]
  },
  {
   "cell_type": "code",
   "execution_count": 19,
   "id": "1a1a3b55-34e6-4562-a5be-b69a6336e67b",
   "metadata": {},
   "outputs": [
    {
     "name": "stdout",
     "output_type": "stream",
     "text": [
      "RGB\n"
     ]
    }
   ],
   "source": [
    "print(image.mode)"
   ]
  },
  {
   "cell_type": "code",
   "execution_count": 39,
   "id": "a7e78071-681c-4c77-b243-c5f345691a6f",
   "metadata": {},
   "outputs": [],
   "source": [
    "resized_image=image.resize((400,400))\n",
    "resized_image.show()"
   ]
  },
  {
   "cell_type": "code",
   "execution_count": 83,
   "id": "a8c5d9d6-53ab-4326-8600-136c1ab89fe8",
   "metadata": {},
   "outputs": [],
   "source": [
    "crop_image=image.crop((50,50,150,150))\n",
    "crop_image.show()"
   ]
  },
  {
   "cell_type": "code",
   "execution_count": 65,
   "id": "7d251240-4bd4-4869-a5fe-1a7327da0034",
   "metadata": {},
   "outputs": [],
   "source": [
    "rotated_img=image.rotate(90)\n",
    "rotated_img.show()"
   ]
  },
  {
   "cell_type": "code",
   "execution_count": 77,
   "id": "f5e651b5-595c-4edb-be98-6894c6c1b1b3",
   "metadata": {},
   "outputs": [],
   "source": [
    "from PIL import Image,ImageDraw,ImageFont"
   ]
  },
  {
   "cell_type": "code",
   "execution_count": 89,
   "id": "cf6924d9-7a80-4b50-a758-3f8347ec08c8",
   "metadata": {},
   "outputs": [],
   "source": [
    "img2=Image.open(\"img2.png\")\n",
    "img2.show()"
   ]
  },
  {
   "cell_type": "code",
   "execution_count": 103,
   "id": "f2714085-12ba-4d0c-9523-3c1141a0148b",
   "metadata": {},
   "outputs": [],
   "source": [
    "draw=ImageDraw.Draw(img2)\n",
    "font=ImageFont.truetype(\"arial.ttf\", 200)\n",
    "text=\"Hello Guys\"\n",
    "position=(50,50)\n",
    "color=(255,255,255)\n",
    "draw.text(position, text, fill=color, font=font)\n",
    "# position2 = (100, 100) \n",
    "# draw.text(position2, text, fill=color, font=font) \n",
    "img2.show()"
   ]
  },
  {
   "cell_type": "code",
   "execution_count": null,
   "id": "c81330ea-84df-4928-9eab-4c58a8d2a704",
   "metadata": {},
   "outputs": [],
   "source": [
    "from PIL import Image, ImageDraw, ImageFont\n",
    "# Open the image and the watermark image\n",
    "image = Image.open(\"image.jpg\")\n",
    "watermark = Image.open(\"watermark.png\")\n",
    "# Resize the watermark image to a suitable size\n",
    "width, height = image.size\n",
    "watermark = watermark.resize((width // 2, height // 2))\n",
    "# Blend the watermark with the image\n",
    "image.paste(watermark, (width - watermark.width - 10, height - watermark.height - 10),\n",
    "watermark)\n",
    "# Display the watermarked image\n",
    "image.show()"
   ]
  },
  {
   "cell_type": "code",
   "execution_count": 107,
   "id": "e9f48875-084b-4808-8a4e-314dd1792cd9",
   "metadata": {},
   "outputs": [],
   "source": [
    "from PIL import ImageEnhance\n",
    "# Open the image\n",
    "image3 = Image.open(\"flower.png\")\n",
    "# Adjust the brightness\n",
    "enhancer = ImageEnhance.Brightness(image3)\n",
    "brightened_image = enhancer.enhance(1.5)\n",
    "# Adjust the contrast\n",
    "enhancer = ImageEnhance.Contrast(brightened_image)\n",
    "contrasted_image = enhancer.enhance(1.2)\n",
    "# Display the enhanced image\n",
    "contrasted_image.show()"
   ]
  }
 ],
 "metadata": {
  "kernelspec": {
   "display_name": "Python 3 (ipykernel)",
   "language": "python",
   "name": "python3"
  },
  "language_info": {
   "codemirror_mode": {
    "name": "ipython",
    "version": 3
   },
   "file_extension": ".py",
   "mimetype": "text/x-python",
   "name": "python",
   "nbconvert_exporter": "python",
   "pygments_lexer": "ipython3",
   "version": "3.12.4"
  }
 },
 "nbformat": 4,
 "nbformat_minor": 5
}
